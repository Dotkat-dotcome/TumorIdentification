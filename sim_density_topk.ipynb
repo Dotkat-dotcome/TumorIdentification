{
 "cells": [
  {
   "cell_type": "code",
   "execution_count": 1,
   "metadata": {},
   "outputs": [
    {
     "ename": "ModuleNotFoundError",
     "evalue": "No module named 'tensorflow'",
     "output_type": "error",
     "traceback": [
      "\u001b[0;31m---------------------------------------------------------------------------\u001b[0m",
      "\u001b[0;31mModuleNotFoundError\u001b[0m                       Traceback (most recent call last)",
      "\u001b[0;32m<ipython-input-1-fcbcc152deef>\u001b[0m in \u001b[0;36m<module>\u001b[0;34m\u001b[0m\n\u001b[1;32m      3\u001b[0m \u001b[0;32mimport\u001b[0m \u001b[0mpandas\u001b[0m \u001b[0;32mas\u001b[0m \u001b[0mpd\u001b[0m\u001b[0;34m\u001b[0m\u001b[0;34m\u001b[0m\u001b[0m\n\u001b[1;32m      4\u001b[0m \u001b[0;32mimport\u001b[0m \u001b[0mnumpy\u001b[0m \u001b[0;32mas\u001b[0m \u001b[0mnp\u001b[0m\u001b[0;34m\u001b[0m\u001b[0;34m\u001b[0m\u001b[0m\n\u001b[0;32m----> 5\u001b[0;31m \u001b[0;32mimport\u001b[0m \u001b[0mtensorflow\u001b[0m \u001b[0;32mas\u001b[0m \u001b[0mtf\u001b[0m\u001b[0;34m\u001b[0m\u001b[0;34m\u001b[0m\u001b[0m\n\u001b[0m\u001b[1;32m      6\u001b[0m \u001b[0;32mfrom\u001b[0m \u001b[0mkeras\u001b[0m\u001b[0;34m.\u001b[0m\u001b[0mmodels\u001b[0m \u001b[0;32mimport\u001b[0m \u001b[0mSequential\u001b[0m\u001b[0;34m\u001b[0m\u001b[0;34m\u001b[0m\u001b[0m\n\u001b[1;32m      7\u001b[0m \u001b[0;32mfrom\u001b[0m \u001b[0mkeras\u001b[0m\u001b[0;34m.\u001b[0m\u001b[0mlayers\u001b[0m \u001b[0;32mimport\u001b[0m \u001b[0mDense\u001b[0m\u001b[0;34m\u001b[0m\u001b[0;34m\u001b[0m\u001b[0m\n",
      "\u001b[0;31mModuleNotFoundError\u001b[0m: No module named 'tensorflow'"
     ]
    }
   ],
   "source": [
    "import os\n",
    "import re\n",
    "import pandas as pd\n",
    "import numpy as np\n",
    "import tensorflow as tf\n",
    "from keras.models import Sequential\n",
    "from keras.layers import Dense\n",
    "from sklearn.preprocessing import MinMaxScaler\n",
    "import matplotlib.pyplot as plt"
   ]
  },
  {
   "cell_type": "code",
   "execution_count": null,
   "metadata": {},
   "outputs": [],
   "source": [
    "data = pd.read_csv(\"norm_data__non_log.txt\",sep='\\t')\n",
    "#data"
   ]
  },
  {
   "cell_type": "code",
   "execution_count": null,
   "metadata": {},
   "outputs": [],
   "source": [
    "# Extract labels\n",
    "\n",
    "def extract_label(list): \n",
    "    number = '[0-9]'\n",
    "    symbol = '_'\n",
    "    head = 'Sample'\n",
    "    list = [re.sub(number, '', i) for i in list] \n",
    "    list = [re.sub(symbol, '', i) for i in list] \n",
    "    list = [re.sub(head, '', i) for i in list] \n",
    "    return list\n",
    "\n",
    "labels = list(data)\n",
    "labels = extract_label(labels)\n",
    "labels = np.ravel(labels)\n",
    "\n",
    "data=data.T\n",
    "\n",
    "mapping = {'Non-LCa':-1,'LCa':1}\n",
    "data[\"targets\"] = labels\n",
    "data[\"targets\"] = data[\"targets\"].map(mapping)\n",
    "#data\n",
    "\n",
    "#X = data.iloc[:,0:1183].as_matrix()\n",
    "#y = data[\"targets\"].as_matrix()\n",
    "#print(X.shape)\n",
    "#print(y.shape)\n"
   ]
  },
  {
   "cell_type": "code",
   "execution_count": null,
   "metadata": {},
   "outputs": [],
   "source": [
    "# Scale Features in [0,1]\n",
    "\n",
    "scaler = MinMaxScaler() \n",
    "\n",
    "X = data.iloc[:,0:1183]\n",
    "data_scaled = pd.DataFrame(scaler.fit_transform(X), columns=X.columns)\n",
    "\n",
    "#scale targets too\n",
    "#data_scaled = pd.DataFrame(scaler.fit_transform(data), columns=data.columns) \n",
    "\n",
    "data_scaled\n",
    "X = data_scaled.as_matrix()\n",
    "y = data[\"targets\"].as_matrix\n",
    "# type(X)\n",
    "# X.shape"
   ]
  },
  {
   "cell_type": "code",
   "execution_count": null,
   "metadata": {},
   "outputs": [],
   "source": [
    "# X = data.iloc[:,0:1183].as_matrix()\n",
    "# y = data[\"targets\"].as_matrix()\n",
    "# #print(X.shape)\n",
    "# #print(y.shape)"
   ]
  },
  {
   "cell_type": "code",
   "execution_count": null,
   "metadata": {},
   "outputs": [],
   "source": [
    "# pdf with KDE\n",
    "\n",
    "# from sklearn.neighbors import KernelDensity\n",
    "# kde = KernelDensity(kernel='gaussian', bandwidth=0.25).fit(X)\n",
    "# kde.sample(3)"
   ]
  },
  {
   "cell_type": "code",
   "execution_count": null,
   "metadata": {},
   "outputs": [],
   "source": [
    "# score_samples returns the log of the probability density\n",
    "\n",
    "# print(X[11])\n",
    "# print(X[200])\n",
    "\n",
    "# print(kde.score_samples(X[11].reshape(1,-1)),\n",
    "#       kde.score_samples(X[180].reshape(1,-1)),\n",
    "#       kde.score_samples(X[18].reshape(1,-1)),\n",
    "#       kde.score_samples(X[10].reshape(1,-1)),\n",
    "#       kde.score_samples(X[100].reshape(1,-1)),\n",
    "#       kde.score_samples(X[1000].reshape(1,-1)),)\n",
    "\n",
    "# logprob=kde.score_samples(X)\n",
    "# print(logprob)\n",
    "# print(np.exp(logprob))"
   ]
  },
  {
   "cell_type": "code",
   "execution_count": null,
   "metadata": {},
   "outputs": [],
   "source": [
    "# Try one pair\n",
    "\n",
    "# i = 1000\n",
    "# j = 100\n",
    "\n",
    "# from sklearn.neighbors import KernelDensity\n",
    "\n",
    "# xgrid = np.linspace(0, 1, 1000)\n",
    "# kde_i = KernelDensity(kernel='gaussian', bandwidth=0.4).fit(X[:,[i]].reshape(-1,1))\n",
    "# kde_j = KernelDensity(kernel='gaussian', bandwidth=0.4).fit(X[:,[j]].reshape(-1,1))\n",
    "# sample_prob_i = kde_i.score_samples(xgrid.reshape(-1,1))\n",
    "# sample_prob_j = kde_j.score_samples(xgrid.reshape(-1,1))\n",
    "\n",
    "# #diff = np.sum((np.exp(sample_prob_i)-np.exp(sample_prob_j))**2)\n",
    "# diff = np.sum(((sample_prob_i)-(sample_prob_j))**2)\n",
    "# print(diff)\n",
    "\n",
    "\n",
    "# print(np.exp(sample_prob_i))\n",
    "# print(np.exp(sample_prob_j))\n",
    "# print(sample_prob_i)\n",
    "# print(sample_prob_j)"
   ]
  },
  {
   "cell_type": "code",
   "execution_count": null,
   "metadata": {},
   "outputs": [],
   "source": [
    "# All pairs\n",
    "\n",
    "from sklearn.neighbors import KernelDensity\n",
    "\n",
    "xgrid = np.linspace(0, 1, 10)\n",
    "#sim_table = pd.DataFrame()\n",
    "num_SimilarFeature = []\n",
    "\n",
    "for i in range(0,1183):\n",
    "    diff_i = []\n",
    "    kde_i = KernelDensity(kernel='gaussian', bandwidth=0.4).fit(X[:,[i]].reshape(-1,1))\n",
    "    sample_prob_i = kde_i.score_samples(xgrid.reshape(-1,1))\n",
    "    \n",
    "    for j in range(0,1183):\n",
    "        #if j!=i: \n",
    "\n",
    "        kde_j = KernelDensity(kernel='gaussian', bandwidth=0.4).fit(X[:,[j]].reshape(-1,1))\n",
    "        sample_prob_j = kde_j.score_samples(xgrid.reshape(-1,1))\n",
    "        diff = np.sum(((sample_prob_i)-(sample_prob_j))**2)   \n",
    "#         print(i,j,diff)\n",
    "        diff_i.append(diff)\n",
    "#     print(diff_i)\n",
    "#     the SimilarFeature includes itself\n",
    "    \n",
    "    num_SimilarFeature_i = np.sum(1 for s in diff_i if s<=1)\n",
    "    num_SimilarFeature.append(num_SimilarFeature_i)\n",
    "print(num_SimilarFeature)\n",
    "#     print(num_SimilarFeature_i)    \n",
    "#     sim_table[i] = diff_i\n",
    "# sim_table         "
   ]
  },
  {
   "cell_type": "code",
   "execution_count": null,
   "metadata": {},
   "outputs": [],
   "source": [
    "with open('sim_density.txt', 'w') as f:\n",
    "    for item in num_SimilarFeature:\n",
    "        f.write(\"%s\\n\" % item)\n",
    "\n",
    "f.close()"
   ]
  },
  {
   "cell_type": "code",
   "execution_count": null,
   "metadata": {},
   "outputs": [],
   "source": [
    "# Extract top-k distinct features \n",
    "\n",
    "k1 = [i for i in range(len(num_SimilarFeature)) if num_SimilarFeature[i] < 200]\n",
    "# print('best',len(k),':\\n',k)\n",
    "\n",
    "k2 = [i for i in range(len(num_SimilarFeature)) if num_SimilarFeature[i] < 230]\n",
    "# print('best',len(k),':\\n',k)\n",
    "\n",
    "k3 = [i for i in range(len(num_SimilarFeature)) if num_SimilarFeature[i] < 250]\n",
    "# print('best',len(k),':\\n',k)\n",
    "\n",
    "with open('sim_density_top22.txt', 'w') as f:\n",
    "    for item in k1:\n",
    "        f.write(\"%s\\n\" % item)\n",
    "f.close()\n",
    "        \n",
    "with open('sim_density_top30.txt', 'w') as f:\n",
    "    for item in k2:\n",
    "        f.write(\"%s\\n\" % item)\n",
    "f.close()\n",
    "        \n",
    "with open('sim_density_top47.txt', 'w') as f:\n",
    "    for item in k3:\n",
    "        f.write(\"%s\\n\" % item)\n",
    "f.close()"
   ]
  },
  {
   "cell_type": "code",
   "execution_count": null,
   "metadata": {},
   "outputs": [],
   "source": [
    "# Reduce Dimension\n",
    "\n",
    "# k2 = []\n",
    "# with open(\"sim_density_top30.txt\") as f:\n",
    "#     for line in f:\n",
    "#         k2.append(line)\n",
    "        \n",
    "# k2 = [float(i) for i in k2]        \n",
    "        \n",
    "# X_new = data.iloc[:,k2]\n",
    "# print(X_new.shape)"
   ]
  },
  {
   "cell_type": "code",
   "execution_count": null,
   "metadata": {},
   "outputs": [],
   "source": []
  }
 ],
 "metadata": {
  "kernelspec": {
   "display_name": "Python 3",
   "language": "python",
   "name": "python3"
  },
  "language_info": {
   "codemirror_mode": {
    "name": "ipython",
    "version": 3
   },
   "file_extension": ".py",
   "mimetype": "text/x-python",
   "name": "python",
   "nbconvert_exporter": "python",
   "pygments_lexer": "ipython3",
   "version": "3.5.5"
  }
 },
 "nbformat": 4,
 "nbformat_minor": 2
}
